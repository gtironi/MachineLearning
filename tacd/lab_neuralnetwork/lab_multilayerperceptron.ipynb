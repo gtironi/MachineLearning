{
 "cells": [
  {
   "cell_type": "code",
   "execution_count": 2,
   "id": "425ac6e9-8919-4c06-be1c-782241f835f6",
   "metadata": {
    "tags": []
   },
   "outputs": [],
   "source": [
    "import numpy as np\n",
    "import pandas as pd"
   ]
  },
  {
   "cell_type": "markdown",
   "id": "fc6f6b7d-1fdf-43a4-bd7c-03d90114d3fb",
   "metadata": {},
   "source": [
    "# Lab 4 - Multi-layer Perceptron Forward Pass"
   ]
  },
  {
   "cell_type": "markdown",
   "id": "c353aba0-7656-45d0-961a-850e9f31f967",
   "metadata": {},
   "source": [
    "## Part I\n",
    "For this exercise you will implement a simple 2-layer perceptron (forward pass)\n",
    "\n",
    "For the first part you'll write a function that computes the forward pass of a 2-layer perecptron that predicts the prices of houses, using the usual Boston housing dataset."
   ]
  },
  {
   "cell_type": "code",
   "execution_count": 3,
   "id": "7804bef6-2bd6-4d05-bc4e-f9d8325f12ec",
   "metadata": {
    "tags": []
   },
   "outputs": [
    {
     "data": {
      "text/html": [
       "<div>\n",
       "<style scoped>\n",
       "    .dataframe tbody tr th:only-of-type {\n",
       "        vertical-align: middle;\n",
       "    }\n",
       "\n",
       "    .dataframe tbody tr th {\n",
       "        vertical-align: top;\n",
       "    }\n",
       "\n",
       "    .dataframe thead th {\n",
       "        text-align: right;\n",
       "    }\n",
       "</style>\n",
       "<table border=\"1\" class=\"dataframe\">\n",
       "  <thead>\n",
       "    <tr style=\"text-align: right;\">\n",
       "      <th></th>\n",
       "      <th>crim</th>\n",
       "      <th>zn</th>\n",
       "      <th>indus</th>\n",
       "      <th>chas</th>\n",
       "      <th>nox</th>\n",
       "      <th>rm</th>\n",
       "      <th>age</th>\n",
       "      <th>dis</th>\n",
       "      <th>rad</th>\n",
       "      <th>tax</th>\n",
       "      <th>ptratio</th>\n",
       "      <th>b</th>\n",
       "      <th>lstat</th>\n",
       "      <th>medv</th>\n",
       "    </tr>\n",
       "  </thead>\n",
       "  <tbody>\n",
       "    <tr>\n",
       "      <th>0</th>\n",
       "      <td>0.00632</td>\n",
       "      <td>18.0</td>\n",
       "      <td>2.31</td>\n",
       "      <td>0</td>\n",
       "      <td>0.538</td>\n",
       "      <td>6.575</td>\n",
       "      <td>65.2</td>\n",
       "      <td>4.0900</td>\n",
       "      <td>1</td>\n",
       "      <td>296</td>\n",
       "      <td>15.3</td>\n",
       "      <td>396.90</td>\n",
       "      <td>4.98</td>\n",
       "      <td>24.0</td>\n",
       "    </tr>\n",
       "    <tr>\n",
       "      <th>1</th>\n",
       "      <td>0.02731</td>\n",
       "      <td>0.0</td>\n",
       "      <td>7.07</td>\n",
       "      <td>0</td>\n",
       "      <td>0.469</td>\n",
       "      <td>6.421</td>\n",
       "      <td>78.9</td>\n",
       "      <td>4.9671</td>\n",
       "      <td>2</td>\n",
       "      <td>242</td>\n",
       "      <td>17.8</td>\n",
       "      <td>396.90</td>\n",
       "      <td>9.14</td>\n",
       "      <td>21.6</td>\n",
       "    </tr>\n",
       "    <tr>\n",
       "      <th>2</th>\n",
       "      <td>0.02729</td>\n",
       "      <td>0.0</td>\n",
       "      <td>7.07</td>\n",
       "      <td>0</td>\n",
       "      <td>0.469</td>\n",
       "      <td>7.185</td>\n",
       "      <td>61.1</td>\n",
       "      <td>4.9671</td>\n",
       "      <td>2</td>\n",
       "      <td>242</td>\n",
       "      <td>17.8</td>\n",
       "      <td>392.83</td>\n",
       "      <td>4.03</td>\n",
       "      <td>34.7</td>\n",
       "    </tr>\n",
       "    <tr>\n",
       "      <th>3</th>\n",
       "      <td>0.03237</td>\n",
       "      <td>0.0</td>\n",
       "      <td>2.18</td>\n",
       "      <td>0</td>\n",
       "      <td>0.458</td>\n",
       "      <td>6.998</td>\n",
       "      <td>45.8</td>\n",
       "      <td>6.0622</td>\n",
       "      <td>3</td>\n",
       "      <td>222</td>\n",
       "      <td>18.7</td>\n",
       "      <td>394.63</td>\n",
       "      <td>2.94</td>\n",
       "      <td>33.4</td>\n",
       "    </tr>\n",
       "    <tr>\n",
       "      <th>4</th>\n",
       "      <td>0.06905</td>\n",
       "      <td>0.0</td>\n",
       "      <td>2.18</td>\n",
       "      <td>0</td>\n",
       "      <td>0.458</td>\n",
       "      <td>7.147</td>\n",
       "      <td>54.2</td>\n",
       "      <td>6.0622</td>\n",
       "      <td>3</td>\n",
       "      <td>222</td>\n",
       "      <td>18.7</td>\n",
       "      <td>396.90</td>\n",
       "      <td>5.33</td>\n",
       "      <td>36.2</td>\n",
       "    </tr>\n",
       "  </tbody>\n",
       "</table>\n",
       "</div>"
      ],
      "text/plain": [
       "      crim    zn  indus  chas    nox     rm   age     dis  rad  tax  ptratio  \\\n",
       "0  0.00632  18.0   2.31     0  0.538  6.575  65.2  4.0900    1  296     15.3   \n",
       "1  0.02731   0.0   7.07     0  0.469  6.421  78.9  4.9671    2  242     17.8   \n",
       "2  0.02729   0.0   7.07     0  0.469  7.185  61.1  4.9671    2  242     17.8   \n",
       "3  0.03237   0.0   2.18     0  0.458  6.998  45.8  6.0622    3  222     18.7   \n",
       "4  0.06905   0.0   2.18     0  0.458  7.147  54.2  6.0622    3  222     18.7   \n",
       "\n",
       "        b  lstat  medv  \n",
       "0  396.90   4.98  24.0  \n",
       "1  396.90   9.14  21.6  \n",
       "2  392.83   4.03  34.7  \n",
       "3  394.63   2.94  33.4  \n",
       "4  396.90   5.33  36.2  "
      ]
     },
     "execution_count": 3,
     "metadata": {},
     "output_type": "execute_result"
    }
   ],
   "source": [
    "boston = pd.read_csv('data/BostonHousing.txt')\n",
    "boston.head(5)"
   ]
  },
  {
   "cell_type": "markdown",
   "id": "8bc1af35-c3bc-48b5-916a-63bf0dd535cb",
   "metadata": {
    "tags": []
   },
   "source": [
    "As usual, consider the MEDV as your target variable. \n",
    "* Split the data into training, validation and testing (70,15,15)% (you will need this for the next lab as we will build from this lab)"
   ]
  },
  {
   "cell_type": "code",
   "execution_count": 4,
   "id": "5df5bfc8-26c0-4d48-9c3c-05a9e404e1d4",
   "metadata": {
    "tags": []
   },
   "outputs": [],
   "source": [
    "# your code goes here\n",
    "from sklearn.model_selection import train_test_split\n",
    "\n",
    "X = boston.drop('medv', axis=1)\n",
    "y = boston['medv']\n",
    "\n",
    "X_train, X_temp, y_train, y_temp = train_test_split(X, y, test_size=0.3, random_state=13)\n",
    "X_val, X_test, y_val, y_test = train_test_split(X_temp, y_temp, test_size=0.5, random_state=13)"
   ]
  },
  {
   "cell_type": "markdown",
   "id": "1656b9eb-c272-43fb-8fe5-c095cf8461ad",
   "metadata": {},
   "source": [
    "Now you will write the function that computes the forward pass. \n",
    "* I provide here a structure that you can follow for your function, but again, feel free to modify it as you see fit.\n",
    "* Use the sigmoid function as the activation of the hidden layer.\n",
    "* Don't forget about the biases!\n",
    "* *It is up to you to think what should be the activation for the output layer.*"
   ]
  },
  {
   "cell_type": "code",
   "execution_count": 5,
   "id": "c582d2ac-e33c-47a7-8e24-fecadf38c53a",
   "metadata": {},
   "outputs": [],
   "source": [
    "def sigmoid_activation(z):\n",
    "    \"\"\"\n",
    "    Sigmoid activation function.\n",
    "\n",
    "    Parameters\n",
    "    ----------\n",
    "    z : array-like\n",
    "        The input to the activation function.\n",
    "\n",
    "    Returns\n",
    "    -------\n",
    "    array-like\n",
    "        Output of the sigmoid activation function.\n",
    "    \"\"\"\n",
    "    # your code goes here\n",
    "    \n",
    "    return 1 / (1 + np.exp(-z))\n",
    "    "
   ]
  },
  {
   "cell_type": "code",
   "execution_count": 6,
   "id": "30eb784e-a9c5-4a70-afcd-bcaf356aa576",
   "metadata": {},
   "outputs": [],
   "source": [
    "def two_layer_perceptron(X, activation, dim_input, dim_hidden, dim_output):\n",
    "    \"\"\"\n",
    "    Implements the forward pass of a two-layer fully connected perceptron.\n",
    "    \n",
    "    Parameters\n",
    "    ----------\n",
    "    X : a 2-dimensional array\n",
    "        the input data\n",
    "    activation : function\n",
    "        the activation function to be used for the hidden layer\n",
    "    dim_input : int\n",
    "        the dimensionality of the input layer\n",
    "    dim_hidden : int\n",
    "        the dimensionality of the hidden layer\n",
    "    dim_output : int\n",
    "        the dimensionality of the output layer\n",
    "    Returns\n",
    "    -------\n",
    "    y_pred : float\n",
    "        the output of the computation of the forward pass of the network\n",
    "    \"\"\"\n",
    "    # your code goes here\n",
    "    np.random.seed(13)\n",
    "    W1 = np.random.randn(dim_input + 1, dim_hidden) * 0.01  # +1 for the bias\n",
    "    W2 = np.random.randn(dim_hidden + 1, dim_output) * 0.01  # +1 for the bias\n",
    "    \n",
    "    X_bias = np.insert(X, obj=0, values = 1, axis =1)\n",
    "\n",
    "    # Forward pass, 1º layer\n",
    "    A1 = np.dot(X_bias, W1)\n",
    "    Z1 = activation(A1)\n",
    "    \n",
    "    Z1_bias = np.insert(Z1, obj=0, values = 1, axis =1)\n",
    "    \n",
    "    # Forward pass, output layer\n",
    "    A2 = np.dot(Z1_bias, W2) \n",
    "    \n",
    "    # Activation function = identity\n",
    "    Z2 = A2\n",
    "\n",
    "    return Z2\n",
    "    "
   ]
  },
  {
   "cell_type": "markdown",
   "id": "f18eb5a0-15c8-4c98-8481-5ca52a27da2d",
   "metadata": {},
   "source": [
    "Calculate the RMSE of the forward pass. "
   ]
  },
  {
   "cell_type": "code",
   "execution_count": 7,
   "id": "dcc26211-91c1-47f9-8779-eb723b0c209e",
   "metadata": {},
   "outputs": [
    {
     "name": "stdout",
     "output_type": "stream",
     "text": [
      "RMSE on training set: 24.60052249643941\n"
     ]
    }
   ],
   "source": [
    "# your code goes here\n",
    "def get_RMSE_vec(y_real, y_pred):\n",
    "    \"\"\"\n",
    "    Calculate the Root Mean Squared Error (RMSE) between true and predicted values, without loops.\n",
    "\n",
    "    Parameters\n",
    "    ----------\n",
    "    y_real: numpy.ndarray\n",
    "        True values.\n",
    "    y_pred: numpy.ndarray\n",
    "        Predicted values.\n",
    "\n",
    "    Returns\n",
    "    ----------\n",
    "    root_mean_squared_error: float\n",
    "        Root Mean Squared Error (RMSE) score.\n",
    "    \"\"\"\n",
    "    squared_errors = (np.array(y_pred) - np.array(y_real)) ** 2 #use numpy arrays to calculate the squared error for every instance, the result is an array\n",
    "    \n",
    "    mean_squared_error = np.mean(squared_errors) #calculate the mean of all values in the squared_errors array, representing the MSE\n",
    "    \n",
    "    root_mean_squared_error = np.sqrt(mean_squared_error) #root of MSE\n",
    "    \n",
    "    return root_mean_squared_error\n",
    "\n",
    "dim_input = X_train.shape[1]\n",
    "\n",
    "dim_hidden = dim_input + 2\n",
    "\n",
    "dim_output = 1 \n",
    "\n",
    "y_train_pred = two_layer_perceptron(X_train, sigmoid_activation, dim_input, dim_hidden, dim_output)\n",
    "\n",
    "rmse_train = get_RMSE_vec(y_train, y_train_pred)\n",
    "\n",
    "print(\"RMSE on training set:\", rmse_train)"
   ]
  },
  {
   "cell_type": "markdown",
   "id": "fa6650ab-79e5-4636-a4c9-84b977c48541",
   "metadata": {},
   "source": [
    "## Part II \n",
    "\n",
    "For this exercise you will write a function that calculates the forward pass of a 2-layer perceptron that predicts the exact digit from a hand-written image, using the MNIST dataset. "
   ]
  },
  {
   "cell_type": "code",
   "execution_count": 8,
   "id": "3bfe2473-16e8-4dce-9e5b-7d5ce1154200",
   "metadata": {
    "tags": []
   },
   "outputs": [],
   "source": [
    "from sklearn.datasets import load_digits"
   ]
  },
  {
   "cell_type": "code",
   "execution_count": 9,
   "id": "4f8f04ee-c8e6-4531-9ad4-b0e530e1f92d",
   "metadata": {
    "tags": []
   },
   "outputs": [],
   "source": [
    "digits = load_digits()"
   ]
  },
  {
   "cell_type": "code",
   "execution_count": 10,
   "id": "6c49e3cd-e16a-4847-ac73-b9628f3f159a",
   "metadata": {
    "tags": []
   },
   "outputs": [],
   "source": [
    "X = digits.data\n",
    "y = digits.target"
   ]
  },
  {
   "cell_type": "code",
   "execution_count": 11,
   "id": "172b3419-d470-433f-87f9-4df67e4761e8",
   "metadata": {
    "tags": []
   },
   "outputs": [
    {
     "data": {
      "text/plain": [
       "(1797, 64)"
      ]
     },
     "execution_count": 11,
     "metadata": {},
     "output_type": "execute_result"
    }
   ],
   "source": [
    "X.shape"
   ]
  },
  {
   "cell_type": "markdown",
   "id": "ebdaf177-1cda-4c04-8d12-090678310602",
   "metadata": {},
   "source": [
    "Again, you will split the data into training, validation and testing."
   ]
  },
  {
   "cell_type": "code",
   "execution_count": 12,
   "id": "8519363c-f7e0-43a8-ba4e-a33ab9d5b96e",
   "metadata": {},
   "outputs": [],
   "source": [
    "# your code goes here:\n",
    "X_train, X_temp, y_train, y_temp = train_test_split(X, y, test_size=0.3, random_state=13)\n",
    "X_val, X_test, y_val, y_test = train_test_split(X_temp, y_temp, test_size=0.5, random_state=13)"
   ]
  },
  {
   "cell_type": "markdown",
   "id": "2bc4d63e-30c3-4f7d-8f6f-b12496886b5e",
   "metadata": {},
   "source": [
    "Write a function that calculates the forward pass for this multi-class classification problem.\n",
    "* You will use the sigmoid activation function for the hidden layer.\n",
    "* For the output layer you will have to write the softmax activation function (you can check the slides)\n",
    "* __Note:__ you can easily re-use the function that you coded for Part I if you do a simple modification and also include an input argument for the activation of the output layer."
   ]
  },
  {
   "cell_type": "code",
   "execution_count": 13,
   "id": "26d68da7-1fa1-4074-b8fa-29ff1c21d8a5",
   "metadata": {},
   "outputs": [],
   "source": [
    "def softmax_activation(z):\n",
    "    \"\"\"\n",
    "    Softmax activation function.\n",
    "\n",
    "    Parameters\n",
    "    ----------\n",
    "    z : array-like\n",
    "        The input to the activation function.\n",
    "\n",
    "    Returns\n",
    "    -------\n",
    "    array-like\n",
    "        Output of the softmax activation function.\n",
    "    \"\"\"\n",
    "    exp_z = np.exp(z - np.max(z, axis=1, keepdims=True)) #scale the z's\n",
    "    return exp_z / np.sum(exp_z, axis=1, keepdims=True)"
   ]
  },
  {
   "cell_type": "code",
   "execution_count": 14,
   "id": "c28da05c-908f-4b46-87f9-e94718ca52b1",
   "metadata": {},
   "outputs": [],
   "source": [
    "# your code goes here: \n",
    "def two_layer_perceptron(X, hidden_activation, output_activation, dim_input, dim_hidden, dim_output):\n",
    "    \"\"\"\n",
    "    Implements the forward pass of a two-layer fully connected perceptron.\n",
    "\n",
    "    Parameters\n",
    "    ----------\n",
    "    X : array-like\n",
    "        The input data.\n",
    "    hidden_activation : function\n",
    "        The activation function to be used for the hidden layer.\n",
    "    output_activation : function\n",
    "        The activation function to be used for the output layer.\n",
    "    dim_input : int\n",
    "        The dimensionality of the input layer.\n",
    "    dim_hidden : int\n",
    "        The dimensionality of the hidden layer.\n",
    "    dim_output : int\n",
    "        The dimensionality of the output layer.\n",
    "\n",
    "    Returns\n",
    "    -------\n",
    "    y_pred : array-like\n",
    "        The output of the computation of the forward pass of the network.\n",
    "    \"\"\"\n",
    "    np.random.seed(13)\n",
    "    W1 = np.random.randn(dim_input + 1, dim_hidden) * 0.01\n",
    "    W2 = np.random.randn(dim_hidden + 1, dim_output) * 0.01\n",
    "    \n",
    "    X_bias = np.insert(X, obj=0, values = 1, axis =1)\n",
    "\n",
    "    # Forward pass, 1º layer\n",
    "    A1 = np.dot(X_bias, W1)\n",
    "    Z1 = hidden_activation(A1)\n",
    "    \n",
    "    Z1_bias = np.insert(Z1, obj=0, values = 1, axis =1)\n",
    "    \n",
    "    # Forward pass, output layer\n",
    "    A2 = np.dot(Z1_bias, W2)\n",
    "    Z2 = output_activation(A2)\n",
    "\n",
    "    return Z2"
   ]
  },
  {
   "cell_type": "markdown",
   "id": "db6b264d-1b1d-433a-98d3-eaf33b685a67",
   "metadata": {},
   "source": [
    "Lastly, calculate the error of this forward pass using the cross-entropy loss."
   ]
  },
  {
   "cell_type": "code",
   "execution_count": 26,
   "id": "015f701c-f816-4208-8cdc-4ba32f03f08d",
   "metadata": {},
   "outputs": [
    {
     "name": "stdout",
     "output_type": "stream",
     "text": [
      "Cross_validtion on training set: 2.3009819431549627\n"
     ]
    }
   ],
   "source": [
    "# your code goes here:\n",
    "\n",
    "def cross_entropy(y_true, y_pred_probs):\n",
    "    \"\"\"\n",
    "    Calculate the Cross-Entropy loss between true and predicted values.\n",
    "\n",
    "    Parameters\n",
    "    ----------\n",
    "    y_true: numpy.ndarray\n",
    "        True labels in a vector or one-hot encoded format.\n",
    "    y_pred: numpy.ndarray\n",
    "        Predicted probabilities for each class.\n",
    "\n",
    "    Returns\n",
    "    -------\n",
    "    cross_entropy_loss: float\n",
    "        Cross-Entropy loss score.\n",
    "    \"\"\"\n",
    "    if len(y_true.shape) == 1:\n",
    "        num_classes = len(np.unique(y_train))\n",
    "        y_true = np.eye(num_classes)[y_true]\n",
    "\n",
    "    # Clip y_pred to avoid log(0) issues\n",
    "    epsilon = 1e-15\n",
    "    y_pred_clipped = np.clip(y_pred_probs, epsilon, 1 - epsilon)\n",
    "\n",
    "    # Calculate cross-entropy\n",
    "    cross_entropy_loss = -np.sum(y_true * np.log(y_pred_clipped)) / len(y_true)\n",
    "\n",
    "    return cross_entropy_loss\n",
    "\n",
    "dim_input = X_train.shape[1]\n",
    "\n",
    "dim_hidden = dim_input + 2\n",
    "\n",
    "dim_output = len(np.unique(y))\n",
    "\n",
    "y_train_pred = two_layer_perceptron(X_train, sigmoid_activation, softmax_activation, dim_input, dim_hidden, dim_output)\n",
    "\n",
    "entropy = cross_entropy(y_train, y_train_pred)\n",
    "\n",
    "print(\"Cross_validtion on training set:\", entropy)"
   ]
  }
 ],
 "metadata": {
  "kernelspec": {
   "display_name": "Python 3 (ipykernel)",
   "language": "python",
   "name": "python3"
  },
  "language_info": {
   "codemirror_mode": {
    "name": "ipython",
    "version": 3
   },
   "file_extension": ".py",
   "mimetype": "text/x-python",
   "name": "python",
   "nbconvert_exporter": "python",
   "pygments_lexer": "ipython3",
   "version": "3.10.13"
  }
 },
 "nbformat": 4,
 "nbformat_minor": 5
}
