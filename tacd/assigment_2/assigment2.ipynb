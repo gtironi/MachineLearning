{
 "cells": [
  {
   "cell_type": "code",
   "execution_count": 1,
   "metadata": {},
   "outputs": [],
   "source": [
    "import numpy as np\n",
    "import pandas as pd\n",
    "import matplotlib.pyplot as plt\n",
    "\n",
    "%matplotlib inline"
   ]
  },
  {
   "cell_type": "markdown",
   "metadata": {},
   "source": [
    "# Linear Regression\n",
    "\n",
    "In this lab, we are going to implement a Linear Regression model \"by hand\" and also use sklearn to implement linear regressors using different basis functions, and then add regularization to the models.\n",
    "\n"
   ]
  },
  {
   "cell_type": "markdown",
   "metadata": {},
   "source": [
    "## Part 1 - Synthetic and real datasets\n",
    "\n",
    "* Generate 50 points in a line in the interval $[0, 10]$ for `x`, perturbed by a small gaussian noise. For example, `y = 2 * x + 5 + noise` where `noise` is taken from a normal distribution.\n",
    "* plot the generated data as a scatter plot, and the line without noise as a reference\n",
    "\n",
    "*Note:* If you want to generate the same data as I generated, use $y = 3x + 5 + \\epsilon$ after setting the random seed to 0"
   ]
  },
  {
   "cell_type": "code",
   "execution_count": 2,
   "metadata": {},
   "outputs": [
    {
     "data": {
      "text/plain": [
       "Text(0, 0.5, 'y')"
      ]
     },
     "execution_count": 2,
     "metadata": {},
     "output_type": "execute_result"
    },
    {
     "data": {
      "image/png": "[encoded data removed]",
      "text/plain": [
       "<Figure size 640x480 with 1 Axes>"
      ]
     },
     "metadata": {},
     "output_type": "display_data"
    }
   ],
   "source": [
    "# your code here\n",
    "np.random.seed(42)\n",
    "\n",
    "X = np.random.rand(50) * 10\n",
    "noise = np.random.normal(0, 1, len(X))\n",
    "y = 2 * X + 5 + noise\n",
    "plt.scatter(X, y, alpha = 0.8, color = \"gray\")\n",
    "plt.plot(X, y - noise, color = \"red\")\n",
    "plt.title('Random generated dataset')\n",
    "plt.xlabel('x')\n",
    "plt.ylabel('y')"
   ]
  },
  {
   "cell_type": "markdown",
   "metadata": {},
   "source": [
    "### Load the housing dataset\n",
    "\n",
    "For this lab we will be using the raw version of the Housing dataset that you used for the first coursework.\n",
    "\n",
    "**Housing.txt:** this dataset is constituted by 506 points in 14 dimensions. Each point represents a house in the Boston area, and the 14 attributes that you find orderly in each column are the following:\n",
    "* `CRIM` - per capita crime rate by town\n",
    "* `ZN` - proportion of residential land zoned for lots over 25,000 sq.ft.\n",
    "* `INDUS` - proportion of non-retail business acres per town.\n",
    "* `CHAS` - Charles River dummy variable (1 if tract bounds river; 0 otherwise) \n",
    "* `NOX` - nitric oxides concentration (parts per 10 million)\n",
    "* `RM` - average number of rooms per dwelling\n",
    "* `AGE` - proportion of owner-occupied units built prior to 1940\n",
    "* `DIS` - weighted distances to five Boston employment centres\n",
    "* `RAD` - index of accessibility to radial highways\n",
    "* `TAX` - full-value property-tax rate per \\$10,000\n",
    "* `PTRATIO` - pupil-teacher ratio by town\n",
    "* `B` - 1000(Bk - 0.63)^2 where Bk is the proportion of blacks by town\n",
    "* `LSTAT` - % lower status of the population\n",
    "* `MEDV` - Median value of owner-occupied homes in $1000's\n",
    "\n",
    "This dataset is normally associated with 2 regression tasks: predicting `NOX` (in which the nitrous oxide level is to be predicted); and predicting price `MEDV` (in which the median value of a home is to be predicted)."
   ]
  },
  {
   "cell_type": "code",
   "execution_count": 3,
   "metadata": {},
   "outputs": [
    {
     "data": {
      "text/html": [
       "<div>\n",
       "<style scoped>\n",
       "    .dataframe tbody tr th:only-of-type {\n",
       "        vertical-align: middle;\n",
       "    }\n",
       "\n",
       "    .dataframe tbody tr th {\n",
       "        vertical-align: top;\n",
       "    }\n",
       "\n",
       "    .dataframe thead th {\n",
       "        text-align: right;\n",
       "    }\n",
       "</style>\n",
       "<table border=\"1\" class=\"dataframe\">\n",
       "  <thead>\n",
       "    <tr style=\"text-align: right;\">\n",
       "      <th></th>\n",
       "      <th>CRIM</th>\n",
       "      <th>ZN</th>\n",
       "      <th>INDUS</th>\n",
       "      <th>CHAS</th>\n",
       "      <th>NOX</th>\n",
       "      <th>RM</th>\n",
       "      <th>AGE</th>\n",
       "      <th>DIS</th>\n",
       "      <th>RAD</th>\n",
       "      <th>TAX</th>\n",
       "      <th>PTRATIO</th>\n",
       "      <th>B</th>\n",
       "      <th>LSTAT</th>\n",
       "      <th>MEDV</th>\n",
       "    </tr>\n",
       "  </thead>\n",
       "  <tbody>\n",
       "    <tr>\n",
       "      <th>0</th>\n",
       "      <td>0.000000</td>\n",
       "      <td>0.165514</td>\n",
       "      <td>0.067815</td>\n",
       "      <td>0.0</td>\n",
       "      <td>0.273696</td>\n",
       "      <td>0.455845</td>\n",
       "      <td>0.495675</td>\n",
       "      <td>0.238389</td>\n",
       "      <td>0.000000</td>\n",
       "      <td>0.188979</td>\n",
       "      <td>0.252496</td>\n",
       "      <td>0.693147</td>\n",
       "      <td>0.085884</td>\n",
       "      <td>3.218876</td>\n",
       "    </tr>\n",
       "    <tr>\n",
       "      <th>1</th>\n",
       "      <td>0.000236</td>\n",
       "      <td>0.000000</td>\n",
       "      <td>0.242302</td>\n",
       "      <td>0.0</td>\n",
       "      <td>0.159428</td>\n",
       "      <td>0.436962</td>\n",
       "      <td>0.578128</td>\n",
       "      <td>0.299335</td>\n",
       "      <td>0.042560</td>\n",
       "      <td>0.099811</td>\n",
       "      <td>0.440312</td>\n",
       "      <td>0.693147</td>\n",
       "      <td>0.186040</td>\n",
       "      <td>3.117950</td>\n",
       "    </tr>\n",
       "    <tr>\n",
       "      <th>2</th>\n",
       "      <td>0.000236</td>\n",
       "      <td>0.000000</td>\n",
       "      <td>0.242302</td>\n",
       "      <td>0.0</td>\n",
       "      <td>0.159428</td>\n",
       "      <td>0.527320</td>\n",
       "      <td>0.469617</td>\n",
       "      <td>0.299335</td>\n",
       "      <td>0.042560</td>\n",
       "      <td>0.099811</td>\n",
       "      <td>0.440312</td>\n",
       "      <td>0.688003</td>\n",
       "      <td>0.061533</td>\n",
       "      <td>3.575151</td>\n",
       "    </tr>\n",
       "    <tr>\n",
       "      <th>3</th>\n",
       "      <td>0.000293</td>\n",
       "      <td>0.000000</td>\n",
       "      <td>0.063050</td>\n",
       "      <td>0.0</td>\n",
       "      <td>0.139941</td>\n",
       "      <td>0.505947</td>\n",
       "      <td>0.365901</td>\n",
       "      <td>0.370559</td>\n",
       "      <td>0.083382</td>\n",
       "      <td>0.064658</td>\n",
       "      <td>0.500130</td>\n",
       "      <td>0.690281</td>\n",
       "      <td>0.032843</td>\n",
       "      <td>3.538057</td>\n",
       "    </tr>\n",
       "    <tr>\n",
       "      <th>4</th>\n",
       "      <td>0.000705</td>\n",
       "      <td>0.000000</td>\n",
       "      <td>0.063050</td>\n",
       "      <td>0.0</td>\n",
       "      <td>0.139941</td>\n",
       "      <td>0.523014</td>\n",
       "      <td>0.424170</td>\n",
       "      <td>0.370559</td>\n",
       "      <td>0.083382</td>\n",
       "      <td>0.064658</td>\n",
       "      <td>0.500130</td>\n",
       "      <td>0.693147</td>\n",
       "      <td>0.094708</td>\n",
       "      <td>3.616309</td>\n",
       "    </tr>\n",
       "  </tbody>\n",
       "</table>\n",
       "</div>"
      ],
      "text/plain": [
       "       CRIM        ZN     INDUS  CHAS       NOX        RM       AGE       DIS  \\\n",
       "0  0.000000  0.165514  0.067815   0.0  0.273696  0.455845  0.495675  0.238389   \n",
       "1  0.000236  0.000000  0.242302   0.0  0.159428  0.436962  0.578128  0.299335   \n",
       "2  0.000236  0.000000  0.242302   0.0  0.159428  0.527320  0.469617  0.299335   \n",
       "3  0.000293  0.000000  0.063050   0.0  0.139941  0.505947  0.365901  0.370559   \n",
       "4  0.000705  0.000000  0.063050   0.0  0.139941  0.523014  0.424170  0.370559   \n",
       "\n",
       "        RAD       TAX   PTRATIO         B     LSTAT      MEDV  \n",
       "0  0.000000  0.188979  0.252496  0.693147  0.085884  3.218876  \n",
       "1  0.042560  0.099811  0.440312  0.693147  0.186040  3.117950  \n",
       "2  0.042560  0.099811  0.440312  0.688003  0.061533  3.575151  \n",
       "3  0.083382  0.064658  0.500130  0.690281  0.032843  3.538057  \n",
       "4  0.083382  0.064658  0.500130  0.693147  0.094708  3.616309  "
      ]
     },
     "execution_count": 3,
     "metadata": {},
     "output_type": "execute_result"
    }
   ],
   "source": [
    "housing = pd.read_csv(\"data/housing.csv\")\n",
    "housing.head(5)"
   ]
  },
  {
   "cell_type": "markdown",
   "metadata": {},
   "source": [
    "## Part 2 -- Build Linear Regression Models\n",
    "\n",
    "You will need to implement it twice:\n",
    "\n",
    "1. using the Normal Equations seen in class (Moore-Penrose pseudo-inverse)\n",
    "2. using stochastic gradient descent\n",
    "\n",
    "* **Tip 1:** When you implement the stochastic gradient version it will be crucial to plot the sum of squares error as a function of the iteration\n",
    "* **Tip 2:** You will need to initialize the weights. Start by choosing them randomly, Gaussian distributed, with a very small variance...\n",
    "\n",
    "Run some experiments with your stochastic gradient descent version, and think about these questions: \n",
    "* what happens with different values of the step parameter? \n",
    "* Does the system always converge to the same solution? \n",
    "* Are you getting the same solution that you get with the closed form implementation? \n",
    "* What happens if you initialize your weights to values that are too big?\n",
    "\n",
    "Below, I provide some skeletons for your implementations, but feel free to structure your code differently.\n",
    "\n",
    "Remember to:\n",
    "* Separate the datasets into training and testing (I used 60% for training)\n"
   ]
  },
  {
   "cell_type": "code",
   "execution_count": 177,
   "metadata": {},
   "outputs": [],
   "source": [
    "from sklearn.metrics import mean_squared_error\n",
    "\n",
    "def linear_regression_PI(X, y):\n",
    "    \"\"\"\n",
    "    Implements a Linear Regression model using the Moore-Penrose pseudo-inverse\n",
    "    \n",
    "    Parameters\n",
    "    ----------\n",
    "    X : array\n",
    "        A 2-dimensional array with samples in the rows and features in the columns\n",
    "    y : array\n",
    "        An array with the same number of  as samples in X, the values to predict\n",
    "    \n",
    "    Returns\n",
    "    -------\n",
    "    w : array\n",
    "        Learnt parameters (column)\n",
    "        \n",
    "    Notes\n",
    "    -----\n",
    "    The first column of w corresponds to the bias (`w_0`)\n",
    "    \"\"\"\n",
    "    # your code here\n",
    "    X_bias = np.insert(X, obj=0, values = 1, axis =1) # Add a bias column to the input data X\n",
    "\n",
    "    w = np.linalg.pinv(X_bias).dot(y) # Calculate the weights using the closed-form solution (pseudoinverse)\n",
    "    \n",
    "    return w.reshape(-1, 1)\n",
    "\n",
    "def linear_regression_SGD(X, y, lr, max_iter=10):\n",
    "    \"\"\"\n",
    "    Implements a Linear Regression model using Stochastic Gradient Descent\n",
    "    \n",
    "    Parameters\n",
    "    ----------\n",
    "    X : array\n",
    "        A 2-dimensional array with samples in the rows and features in the columns\n",
    "    y : array\n",
    "        An array with the same number of  as samples in X, the values to predict\n",
    "    lr : float\n",
    "        Learning rate\n",
    "    max_iter : int\n",
    "        number of epochs to use for the gradient descent\n",
    "    \n",
    "    Returns\n",
    "    -------\n",
    "    w : array\n",
    "        Learnt parameters (column)\n",
    "    sse_history : array\n",
    "        An array that contains the error of the model in every iteration\n",
    "    Notes\n",
    "    -----\n",
    "    This function uses the gradient of the sum of squares function (Equations 3.12, and 3.23 in the Bishop book)\n",
    "    \"\"\"\n",
    "    # your code here\n",
    "    \n",
    "    sse_history = list() \n",
    "    \n",
    "    # Add a bias column to the input data X\n",
    "    X_bias = np.insert(X, obj=0, values=1, axis=1)\n",
    "\n",
    "    # Initialize the weights theta with random values from a gaussian distribution\n",
    "    w = np.random.normal(scale=0.1, size=(X_bias.shape[1], 1))\n",
    "\n",
    "    # Loop for training the model using Stochastic Gradient Descent (SGD)\n",
    "    for epoch in range(max_iter):\n",
    "        # Shuffle the data indices to make the training stochastic\n",
    "        indices = np.arange(len(X_bias))\n",
    "        np.random.shuffle(indices)\n",
    "        \n",
    "        for index in indices:\n",
    "        \n",
    "            # Select a random index from the biased data\n",
    "            xi = X_bias[index]  # Get the random sample\n",
    "            yi = y[index]  # Get the corresponding target\n",
    "\n",
    "            # Calculate the gradient for the current sample\n",
    "            gradient = (xi * (yi - np.dot(w.T, xi))).reshape(-1, 1)\n",
    "\n",
    "            # Update the weights using the learning rate and the calculated gradient\n",
    "            w = w + lr * gradient\n",
    "        \n",
    "        # y_pred = np.dot(X_bias, w)\n",
    "        \n",
    "        # sse = np.mean((y - y_pred)**2) #Calculate the sum of squared errors for each instance.\n",
    "        \n",
    "        # sse_history.append(np.sqrt(sse)) #Append the error in the list\n",
    "\n",
    "        y_pred = np.dot(X_bias, w)\n",
    "        \n",
    "        sse = 0\n",
    "        \n",
    "        for i in range(len(y)):\n",
    "            sse += ((y[i] - y_pred[i][0])**2)/2\n",
    "            \n",
    "        sse_history.append(sse)\n",
    "        \n",
    "    return w, sse_history"
   ]
  },
  {
   "cell_type": "code",
   "execution_count": 168,
   "metadata": {},
   "outputs": [
    {
     "name": "stderr",
     "output_type": "stream",
     "text": [
      "/home/codespace/.local/lib/python3.10/site-packages/sklearn/utils/validation.py:1300: DataConversionWarning: A column-vector y was passed when a 1d array was expected. Please change the shape of y to (n_samples, ), for example using ravel().\n",
      "  y = column_or_1d(y, warn=True)\n"
     ]
    },
    {
     "name": "stdout",
     "output_type": "stream",
     "text": [
      "\n",
      "A função implementada retornou:\n",
      "\n",
      "[[ 1.23018129]\n",
      " [-0.1860261 ]\n",
      " [ 0.23703453]\n",
      " [ 0.09995823]\n",
      " [ 0.19802416]\n",
      " [ 0.2825635 ]\n",
      " [ 0.70958673]\n",
      " [ 0.53425761]\n",
      " [ 0.34012095]\n",
      " [ 0.25493534]\n",
      " [ 0.17824386]\n",
      " [ 0.44519771]\n",
      " [ 1.03964318]\n",
      " [ 0.11733947]]\n",
      "\n",
      "Comparativamente, o sklearn retornou:\n",
      "[[ 1.30670991]\n",
      " [-0.01494061]\n",
      " [ 0.22746643]\n",
      " [ 0.27133307]\n",
      " [ 0.08163464]\n",
      " [ 0.21927492]\n",
      " [ 0.60974317]\n",
      " [ 0.49962149]\n",
      " [ 0.3705565 ]\n",
      " [ 0.15386539]\n",
      " [ 0.21840411]\n",
      " [ 0.4965404 ]\n",
      " [ 0.88296025]\n",
      " [ 0.16767593]]\n",
      "\n",
      "resultando em uma diferença de:\n",
      "[[-0.07652862]\n",
      " [-0.17108548]\n",
      " [ 0.00956809]\n",
      " [-0.17137484]\n",
      " [ 0.11638952]\n",
      " [ 0.06328858]\n",
      " [ 0.09984356]\n",
      " [ 0.03463612]\n",
      " [-0.03043555]\n",
      " [ 0.10106995]\n",
      " [-0.04016025]\n",
      " [-0.05134269]\n",
      " [ 0.15668293]\n",
      " [-0.05033646]]\n",
      "\n"
     ]
    }
   ],
   "source": [
    "# test your function here\n",
    "\n",
    "from sklearn.linear_model import SGDRegressor\n",
    "np.random.seed(40)\n",
    "\n",
    "housing = pd.read_csv(\"data/housing.csv\")\n",
    "X = housing.drop('MEDV', axis=1).values\n",
    "y = housing['MEDV'].values.reshape(-1, 1)\n",
    "\n",
    "lin_reg = SGDRegressor(max_iter = 50, penalty=None, eta0=0.0001, learning_rate='constant', early_stopping=False, tol =None)\n",
    "lin_reg.fit(X, y)\n",
    "\n",
    "pred_func, _ = linear_regression_SGD(X, y, 0.0001, 50)\n",
    "\n",
    "pred_skl = np.hstack((lin_reg.intercept_, lin_reg.coef_)).reshape(-1,1)\n",
    "\n",
    "print(f'''\n",
    "A função implementada retornou:\n",
    "\n",
    "{pred_func}\n",
    "\n",
    "Comparativamente, o sklearn retornou:\n",
    "{pred_skl}\n",
    "\n",
    "resultando em uma diferença de:\n",
    "{pred_func - pred_skl}\n",
    "''')\n"
   ]
  },
  {
   "cell_type": "markdown",
   "metadata": {},
   "source": [
    "we can now use this function to learn the parameters for predicting `NOX`"
   ]
  },
  {
   "cell_type": "markdown",
   "metadata": {},
   "source": [
    "First you will have to prepare the data:\n",
    "- Separate the features from the target variables (Put the features in a matrix X and the target variable in a vector y)\n",
    "- Split the data using sklearn's train_test_split."
   ]
  },
  {
   "cell_type": "code",
   "execution_count": 169,
   "metadata": {},
   "outputs": [],
   "source": [
    "# your code here\n",
    "from sklearn.model_selection import train_test_split\n",
    "\n",
    "X = housing.drop('NOX', axis=1).values\n",
    "y = housing['NOX'].values\n",
    "\n",
    "X_train, X_test, y_train, y_test = train_test_split(\n",
    "X, y, test_size=0.20, random_state=42)"
   ]
  },
  {
   "cell_type": "markdown",
   "metadata": {},
   "source": [
    "Now use the functions you coded to learn the weights!"
   ]
  },
  {
   "cell_type": "code",
   "execution_count": 178,
   "metadata": {},
   "outputs": [
    {
     "name": "stdout",
     "output_type": "stream",
     "text": [
      "\n",
      "A função implementada com a forma fechada retornou:\n",
      "[[ 0.61399354]\n",
      " [-0.20705555]\n",
      " [-0.0804523 ]\n",
      " [ 0.15069237]\n",
      " [ 0.03701368]\n",
      " [ 0.00116014]\n",
      " [ 0.1403615 ]\n",
      " [-0.43302456]\n",
      " [ 0.14693832]\n",
      " [ 0.06006152]\n",
      " [-0.24751495]\n",
      " [ 0.00888635]\n",
      " [-0.03076844]\n",
      " [-0.09583065]]\n",
      "\n",
      "A função implementada com SGD retornou:\n",
      "[[ 0.57332818]\n",
      " [-0.18963207]\n",
      " [-0.08319862]\n",
      " [ 0.15207368]\n",
      " [ 0.03661765]\n",
      " [ 0.00858282]\n",
      " [ 0.14236268]\n",
      " [-0.42030896]\n",
      " [ 0.13990216]\n",
      " [ 0.06650374]\n",
      " [-0.24338296]\n",
      " [ 0.00950395]\n",
      " [-0.0115293 ]\n",
      " [-0.08832106]]\n",
      "\n"
     ]
    }
   ],
   "source": [
    "# your code here\n",
    "np.random.seed(42)\n",
    "w_SGD, sse_history = linear_regression_SGD(X_train, y_train, 0.001, 8000)\n",
    "\n",
    "w_fechada = linear_regression_PI(X_train, y_train)\n",
    "\n",
    "print(f'''\n",
    "A função implementada com a forma fechada retornou:\n",
    "{w_fechada}\n",
    "\n",
    "A função implementada com SGD retornou:\n",
    "{w_SGD}\n",
    "''')"
   ]
  },
  {
   "cell_type": "markdown",
   "metadata": {},
   "source": [
    "make a plot that shows the evolution of the sum of squares error\n",
    "\n",
    "**tip:** make it a callable function that you can reuse for the next task"
   ]
  },
  {
   "cell_type": "code",
   "execution_count": 179,
   "metadata": {},
   "outputs": [
    {
     "data": {
      "image/png": "[encoded data removed]",
      "text/plain": [
       "<Figure size 640x480 with 1 Axes>"
      ]
     },
     "metadata": {},
     "output_type": "display_data"
    }
   ],
   "source": [
    "# your code here\n",
    "\n",
    "def plot_error(sse_history):\n",
    "    plt.figure()\n",
    "    \n",
    "    plt.plot(sse_history)\n",
    "    plt.title('Evolução do erro quadrado')\n",
    "    plt.xlabel('Iteração')\n",
    "    plt.ylabel('Erro')\n",
    "    \n",
    "plot_error(sse_history)"
   ]
  },
  {
   "cell_type": "markdown",
   "metadata": {},
   "source": [
    "Use the learn weights to make predictions for the test set, and evaluate the model using the root mean squared error (remember that the bias is the first column of the weight matrix)\n",
    "- You can use the function you coded for your coursework, but feel free to use sklearn's `mean_squared_error()` here"
   ]
  },
  {
   "cell_type": "code",
   "execution_count": 180,
   "metadata": {},
   "outputs": [
    {
     "data": {
      "text/plain": [
       "0.0052674668622240284"
      ]
     },
     "execution_count": 180,
     "metadata": {},
     "output_type": "execute_result"
    }
   ],
   "source": [
    "# your code here\n",
    "from sklearn.metrics import mean_squared_error\n",
    "\n",
    "X_bias_test = np.insert(X_test, obj=0, values=1, axis=1)\n",
    "\n",
    "y_pred = np.dot(X_bias_test, w_SGD)\n",
    "\n",
    "mean_squared_error(y_test, y_pred)"
   ]
  },
  {
   "cell_type": "markdown",
   "metadata": {},
   "source": [
    "Repeat the same analysis for predicting `MEDV`"
   ]
  },
  {
   "cell_type": "code",
   "execution_count": 184,
   "metadata": {},
   "outputs": [
    {
     "name": "stdout",
     "output_type": "stream",
     "text": [
      "0.03285312632533671\n"
     ]
    },
    {
     "data": {
      "image/png": "[encoded data removed]",
      "text/plain": [
       "<Figure size 640x480 with 1 Axes>"
      ]
     },
     "metadata": {},
     "output_type": "display_data"
    }
   ],
   "source": [
    "# your code here\n",
    "\n",
    "#---------getting the data\n",
    "X = housing.drop('MEDV', axis=1).values\n",
    "y = housing['MEDV'].values\n",
    "\n",
    "X_train, X_test, y_train, y_test = train_test_split(\n",
    "X, y, test_size=0.20, random_state=42)\n",
    "\n",
    "#----------training the model\n",
    "\n",
    "w_SGD, sse_history = linear_regression_SGD(X_train, y_train, 0.001, 1000)\n",
    "\n",
    "w_fechada = linear_regression_PI(X_train, y_train)\n",
    "\n",
    "#----------making predictions and final error\n",
    "\n",
    "X_bias_test = np.insert(X_test, obj=0, values=1, axis=1)\n",
    "\n",
    "y_pred = np.dot(X_bias_test, w_fechada)\n",
    "\n",
    "print(mean_squared_error(y_test, y_pred))\n",
    "\n",
    "plot_error(sse_history)"
   ]
  },
  {
   "cell_type": "markdown",
   "metadata": {},
   "source": [
    "## Part 3 - Polynomial basis function\n",
    "\n",
    "* Generate a 2D dataset using a sine wave (10 values for `x` in the interval $[0, 10]$), perturbed by a small gaussian noise. *Note:* To generate the same data as I generated, use $y = 4sin(x) + \\epsilon$ by setting the seed to 0\n",
    "* The Polynomial basis function that you will use is of the following form:\n",
    "    - $\\phi_i(x)=x^i$\n",
    "* You will do this to create models of degrees 2, 4, and 9.\n",
    "    - Transform your original `x` into the design matrix $\\Phi$ by applying the basis functions to each element of `x`\n",
    "    - For degree 2: $i\\in[0,1,2]$, for degree 4: $i\\in[0,1,2,3,4]$, and for degree 9: $i\\in[0,1,2,...,9]$\n",
    "    - *This means that for each Degree you will create a different $\\Phi$ and fit a different regression model.*\n",
    "\n",
    "* Plot the data and the prediction for each degree.\n",
    "* Which degree of polynomial works better to model this scenario? \n",
    "\n",
    "Example: Let's say that $$x=\\begin{bmatrix} x_1=2 \\\\ x_2=3 \\\\ x_3=1 \\end{bmatrix}$$\n",
    "Then for Degree 2 I will use the following basis functions: $\\phi_0(x_j)=x_j^0, \\phi_1(x_j)=x_j^1, \\phi_2(x_j)=x_j^2$.\n",
    "\n",
    "In this case, $\\Phi$ will look like: \n",
    "$$\\Phi=\\begin{bmatrix} \\phi_0(x_1)=x_1^0 & \\phi_1(x_1)=x_1^1 & \\phi_2(x_1)=x_1^2 \\\\ \\phi_0(x_2)=x_2^0 & \\phi_1(x_2)=x_2^1 & \\phi_2(x_2)=x_2^2 \\\\ \\phi_0(x_3)=x_3^0 & \\phi_1(x_3)=x_3^1 & \\phi_2(x_3)=x_3^2 \\end{bmatrix}$$\n",
    "\n",
    "Finally:\n",
    "$$\\Phi=\\begin{bmatrix} 1 & 2 & 4 \\\\ 1 & 3 & 9 \\\\ 1 & 1 & 1 \\end{bmatrix}$$\n",
    "\n",
    "__*Important:* You have to code this exercise yourself.__\n",
    "\n"
   ]
  },
  {
   "cell_type": "code",
   "execution_count": 11,
   "metadata": {},
   "outputs": [],
   "source": [
    "# your code here"
   ]
  },
  {
   "cell_type": "markdown",
   "metadata": {},
   "source": [
    "## Part 4 - Polynomial basis function\n",
    "\n",
    "For this part you will replicate the previous part but using the existing functions from sklearn!\n",
    "\n",
    "* Use the same data as the previous part.\n",
    "* Use sklearn's Linear Regression estimator together with a Polynomial transform to make a Linear regression with a polynomial basis.\n",
    "\n",
    "*Note:* To generate the same data as I generated, use $y = 4sin(x) + \\epsilon$ by setting the seed to 0"
   ]
  },
  {
   "cell_type": "code",
   "execution_count": 12,
   "metadata": {},
   "outputs": [],
   "source": [
    "# your code here"
   ]
  }
 ],
 "metadata": {
  "kernelspec": {
   "display_name": "Python 3 (ipykernel)",
   "language": "python",
   "name": "python3"
  },
  "language_info": {
   "codemirror_mode": {
    "name": "ipython",
    "version": 3
   },
   "file_extension": ".py",
   "mimetype": "text/x-python",
   "name": "python",
   "nbconvert_exporter": "python",
   "pygments_lexer": "ipython3",
   "version": "3.10.13"
  }
 },
 "nbformat": 4,
 "nbformat_minor": 4
}
