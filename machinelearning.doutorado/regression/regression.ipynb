{
 "cells": [
  {
   "attachments": {},
   "cell_type": "markdown",
   "metadata": {},
   "source": [
    "# Lab 3: Linear and logistic regression\n",
    "Import and explore the data, implements python functions to (i) learn linear regression models and (ii) learn logistic regression models. Submit this notebook to eclass with the name \"lab3_123456.ipynb\" and replace \"123456\" by the ID you used for the first lab."
   ]
  },
  {
   "cell_type": "code",
   "execution_count": 39,
   "metadata": {},
   "outputs": [],
   "source": [
    "import numpy as np\n",
    "import pandas as pd\n",
    "from sklearn import model_selection\n",
    "import matplotlib.pyplot as plt\n",
    "from sklearn.model_selection import train_test_split\n",
    "import re"
   ]
  },
  {
   "attachments": {},
   "cell_type": "markdown",
   "metadata": {},
   "source": [
    "Import the data in \"housing.txt\", \"occupacy_training_set.csv\", \"occupacy_test_set_1.csv\" and \"occupacy_test_set_2.csv\" datasets"
   ]
  },
  {
   "cell_type": "code",
   "execution_count": 40,
   "metadata": {},
   "outputs": [],
   "source": [
    "#make sure to separate the dataponts and the labels (into arrays X and y)\n",
    "#for housing, NOX and MEDV should not be present in X\n",
    "#y should contain MEDV\n",
    "housing = pd.read_csv(\"housing.txt\", sep=r'\\s+', header=None)\n",
    "X_housing = housing.drop(columns=[4, 13]).values\n",
    "y_housing = housing.iloc[:, -1].values.reshape(-1, 1)\n",
    "\n",
    "occ_train = pd.read_csv(\"occupancy_training_set.csv\")\n",
    "occ_test1 = pd.read_csv(\"occupancy_test_set_1.csv\")\n",
    "occ_test2 = pd.read_csv(\"occupancy_test_set_2.csv\")\n",
    "\n",
    "X_occ_train = occ_train.iloc[:, :-1].values\n",
    "y_occ_train = occ_train.iloc[:, -1].values.reshape(-1, 1)\n",
    "X_occ_val = occ_test1.iloc[:, :-1].values\n",
    "y_occ_val = occ_test1.iloc[:, -1].values.reshape(-1, 1)\n",
    "X_occ_test = occ_test2.iloc[:, :-1].values\n",
    "y_occ_test = occ_test2.iloc[:, -1].values.reshape(-1, 1)"
   ]
  },
  {
   "attachments": {},
   "cell_type": "markdown",
   "metadata": {},
   "source": [
    "Divide your dataset into training and testing sets (occupacy is already separated, choose one of the test sets as validation set)"
   ]
  },
  {
   "cell_type": "code",
   "execution_count": 41,
   "metadata": {},
   "outputs": [],
   "source": [
    "#your code goes here\n",
    "Xtrain_r_raw, Xtest_r_raw, ytrain_r, ytest_r = train_test_split(X_housing, y_housing, test_size=0.3, random_state=42)"
   ]
  },
  {
   "cell_type": "markdown",
   "metadata": {},
   "source": [
    "Check the scale of the values of housing features. TIP: consider normalizing your dataset."
   ]
  },
  {
   "cell_type": "code",
   "execution_count": 42,
   "metadata": {},
   "outputs": [],
   "source": [
    "#your code goes here\n",
    "X_min = Xtrain_r_raw.min(axis=0)\n",
    "X_max = Xtrain_r_raw.max(axis=0)\n",
    "Xtrain_r = (Xtrain_r_raw - X_min) / (X_max - X_min)\n",
    "Xtest_r = (Xtest_r_raw - X_min) / (X_max - X_min)"
   ]
  },
  {
   "attachments": {},
   "cell_type": "markdown",
   "metadata": {},
   "source": [
    "Create a function that estimate the parameters of a linear regression model using the closed form solution to fit the data."
   ]
  },
  {
   "cell_type": "code",
   "execution_count": 43,
   "metadata": {},
   "outputs": [],
   "source": [
    "def LiR_c(Xtrain, ytrain):\n",
    "    \"\"\"\n",
    "    Linear Regression - Solução Fechada (Closed Form)\n",
    "    \"\"\"\n",
    "    X_bias = np.insert(Xtrain, 0, 1, axis=1)\n",
    "    w = np.linalg.pinv(X_bias) @ ytrain\n",
    "    return w"
   ]
  },
  {
   "attachments": {},
   "cell_type": "markdown",
   "metadata": {},
   "source": [
    "Create a function that estimate the parameters of a linear regression model using stochastic gradient descent iterative procedure. Your function should output a vector containing the value of the loss at each gradient update besides the linear regression model parameters."
   ]
  },
  {
   "cell_type": "code",
   "execution_count": 44,
   "metadata": {},
   "outputs": [],
   "source": [
    "def LiR_gd(Xtrain, ytrain, lr=0.001, max_iter=100):\n",
    "    \"\"\"\n",
    "    Linear Regression - Stochastic Gradient Descent (SGD)\n",
    "    \"\"\"\n",
    "    X_bias = np.insert(Xtrain, 0, 1, axis=1)\n",
    "    w = np.random.normal(scale=0.01, size=(X_bias.shape[1], 1))\n",
    "    loss = []\n",
    "\n",
    "    for epoch in range(max_iter):\n",
    "        indices = np.random.permutation(Xtrain.shape[0])\n",
    "        for i in indices:\n",
    "            xi = X_bias[i].reshape(-1, 1)\n",
    "            yi = ytrain[i]\n",
    "            gradient = (yi - w.T @ xi) * xi\n",
    "            w += lr * gradient\n",
    "\n",
    "        y_pred = X_bias @ w\n",
    "        sse = np.mean((ytrain - y_pred) ** 2) / 2\n",
    "        loss.append(sse)\n",
    "\n",
    "    return w, loss"
   ]
  },
  {
   "cell_type": "markdown",
   "metadata": {},
   "source": [
    "Train two linear regression models using your training set of the housing dataset, the parameters of one model using the closed form solution  and the parameters of the second model using the stochastic gradient descent procedure. Print the parameters for both procedures and plot the loss at each parameter update."
   ]
  },
  {
   "cell_type": "code",
   "execution_count": 45,
   "metadata": {},
   "outputs": [
    {
     "name": "stdout",
     "output_type": "stream",
     "text": [
      "Parametros do modelo (Closed Form): [ 23.80195221 -10.88158358   3.5761525   -0.41164626   2.99832557\n",
      "  20.38736905  -2.40170604 -12.66224434   4.66430589  -5.19334848\n",
      "  -6.90826839   4.82220904 -20.7831857 ]\n",
      "Parametros do modelo (SGD): [ 12.52736682  -2.46675778   3.12147943  -1.18873044   5.00208101\n",
      "  18.88892983   1.54805968  -0.71694265   0.74335717  -1.68694246\n",
      "  -5.61170765   8.37127442 -13.36857971]\n"
     ]
    },
    {
     "data": {
      "image/png": "[encoded data removed]",
      "text/plain": [
       "<Figure size 640x480 with 1 Axes>"
      ]
     },
     "metadata": {},
     "output_type": "display_data"
    }
   ],
   "source": [
    "#your code here\n",
    "w_c = LiR_c(Xtrain_r, ytrain_r)\n",
    "y_pred_c = np.insert(Xtest_r, 0, 1, axis=1) @ w_c\n",
    "\n",
    "w_s, sse_hist = LiR_gd(Xtrain_r, ytrain_r, lr=0.001, max_iter=100)\n",
    "y_pred_s = np.insert(Xtest_r, 0, 1, axis=1) @ w_s\n",
    "\n",
    "print(\"Parametros do modelo (Closed Form):\", w_c.flatten())\n",
    "print(\"Parametros do modelo (SGD):\", w_s.flatten())\n",
    "\n",
    "plt.plot(sse_hist)\n",
    "plt.title(\"Erro SSE por época (SGD)\")\n",
    "plt.xlabel(\"Época\")\n",
    "plt.ylabel(\"SSE\")\n",
    "plt.grid()\n",
    "plt.show()"
   ]
  },
  {
   "attachments": {},
   "cell_type": "markdown",
   "metadata": {},
   "source": [
    "Build a function that uses the learned parameters w to predict the value (MEDV in our dataset) for new datapoints."
   ]
  },
  {
   "cell_type": "code",
   "execution_count": 46,
   "metadata": {},
   "outputs": [],
   "source": [
    "def predLiR(w, Xtest):\n",
    "    X_bias = np.insert(Xtest, 0, 1, axis=1)\n",
    "    preds = X_bias @ w\n",
    "    return preds"
   ]
  },
  {
   "cell_type": "markdown",
   "metadata": {},
   "source": [
    "Use your trained parameters of linear regression and your predLiR() function to predict for your test set of the housing dataset"
   ]
  },
  {
   "cell_type": "code",
   "execution_count": 47,
   "metadata": {},
   "outputs": [],
   "source": [
    "#your code goes here\n",
    "y_pred_c = predLiR(w_c, Xtest_r)\n",
    "y_pred_s = predLiR(w_s, Xtest_r)"
   ]
  },
  {
   "cell_type": "markdown",
   "metadata": {},
   "source": [
    "Evaluate your predictions using the Root Mean Square Error. "
   ]
  },
  {
   "cell_type": "code",
   "execution_count": 48,
   "metadata": {},
   "outputs": [
    {
     "name": "stdout",
     "output_type": "stream",
     "text": [
      "RMSE - Closed Form: 4.8020\n",
      "RMSE - SGD: 5.2090\n"
     ]
    }
   ],
   "source": [
    "#your code goes here\n",
    "def rmse(y_true, y_pred):\n",
    "    return np.sqrt(np.mean((y_true - y_pred) ** 2))\n",
    "\n",
    "rmse_c = rmse(ytest_r, y_pred_c)\n",
    "rmse_s = rmse(ytest_r, y_pred_s)\n",
    "\n",
    "print(f\"RMSE - Closed Form: {rmse_c:.4f}\")\n",
    "print(f\"RMSE - SGD: {rmse_s:.4f}\")\n"
   ]
  },
  {
   "attachments": {},
   "cell_type": "markdown",
   "metadata": {},
   "source": [
    "Build a function that learns the parameters of a logistic regression model given a dataset using a stochastic gradient descent strategy. The function should output a vector wih the loss values during training."
   ]
  },
  {
   "cell_type": "code",
   "execution_count": 49,
   "metadata": {},
   "outputs": [],
   "source": [
    "def sigmoid(z):\n",
    "    return 1 / (1 + np.exp(-z))\n",
    "\n",
    "def LoR_gd(Xtrain, ytrain, lr=0.01, max_iter=100):\n",
    "    X_bias = np.insert(Xtrain, 0, 1, axis=1)\n",
    "    w = np.random.normal(scale=0.01, size=(X_bias.shape[1], 1))\n",
    "    loss = []\n",
    "\n",
    "    for epoch in range(max_iter):\n",
    "        indices = np.random.permutation(Xtrain.shape[0])\n",
    "        for i in indices:\n",
    "            xi = X_bias[i].reshape(-1, 1)\n",
    "            yi = ytrain[i]\n",
    "            p = sigmoid(w.T @ xi)\n",
    "            grad = (p - yi) * xi\n",
    "            w -= lr * grad\n",
    "\n",
    "        z_all = X_bias @ w\n",
    "        p_all = sigmoid(z_all)\n",
    "        ce = -np.mean(ytrain * np.log(p_all + 1e-10) + (1 - ytrain) * np.log(1 - p_all + 1e-10))\n",
    "        loss.append(ce)\n",
    "\n",
    "    return w, loss"
   ]
  },
  {
   "attachments": {},
   "cell_type": "markdown",
   "metadata": {},
   "source": [
    "Build a function that learns the parameters of a logistic regression model given a dataset using the reweighted least squares algorithm. The function should output a vector wih the loss values during training."
   ]
  },
  {
   "cell_type": "code",
   "execution_count": 50,
   "metadata": {},
   "outputs": [],
   "source": [
    "def LoR_2(Xtrain,ytrain,max_iter):\n",
    "    X_bias = np.insert(Xtrain, 0, 1, axis=1)\n",
    "    w = np.zeros((X_bias.shape[1], 1))\n",
    "    loss = []\n",
    "\n",
    "    for _ in range(max_iter):\n",
    "        z = X_bias @ w\n",
    "        p = sigmoid(z)\n",
    "        W = np.diag((p * (1 - p)).flatten())\n",
    "        H = X_bias.T @ W @ X_bias\n",
    "        g = X_bias.T @ (ytrain - p)\n",
    "        w += np.linalg.pinv(H) @ g\n",
    "\n",
    "        ce = -np.mean(ytrain * np.log(p + 1e-10) + (1 - ytrain) * np.log(1 - p + 1e-10))\n",
    "        loss.append(ce)\n",
    "\n",
    "    return w, loss"
   ]
  },
  {
   "cell_type": "code",
   "execution_count": 51,
   "metadata": {},
   "outputs": [],
   "source": [
    "# Calcular a média e o desvio padrão nos dados de treino\n",
    "mean_train = np.mean(X_occ_train, axis=0)\n",
    "std_train = np.std(X_occ_train, axis=0)\n",
    "\n",
    "# Normalizar os dados de treino\n",
    "X_occ_train_scaled = (X_occ_train - mean_train) / std_train\n",
    "\n",
    "# Normalizar os dados de validação e teste com a mesma média e desvio padrão dos dados de treino\n",
    "X_occ_val_scaled = (X_occ_val - mean_train) / std_train\n",
    "X_occ_test_scaled = (X_occ_test - mean_train) / std_train"
   ]
  },
  {
   "cell_type": "markdown",
   "metadata": {},
   "source": [
    "Train the 2 logistic regression models, each learned with the above learning functions, using the training set of the Occupacy dataset. Plot the loss for both procedure (remeber to include titles and legends)"
   ]
  },
  {
   "cell_type": "code",
   "execution_count": 52,
   "metadata": {},
   "outputs": [
    {
     "data": {
      "image/png": "[encoded data removed]",
      "text/plain": [
       "<Figure size 640x480 with 1 Axes>"
      ]
     },
     "metadata": {},
     "output_type": "display_data"
    }
   ],
   "source": [
    "#your code goes here\n",
    "w_sgd, ce_sgd = LoR_gd(X_occ_train_scaled, y_occ_train, lr=0.01, max_iter=10)\n",
    "w_irls, ce_irls = LoR_2(X_occ_train_scaled, y_occ_train, max_iter=10)\n",
    "\n",
    "plt.plot(ce_sgd, label=\"SGD\")\n",
    "plt.plot(ce_irls, label=\"IRLS\")\n",
    "plt.title(\"Cross-Entropy Loss durante o treinamento\")\n",
    "plt.xlabel(\"Época\")\n",
    "plt.ylabel(\"Loss\")\n",
    "plt.legend()\n",
    "plt.grid()\n",
    "plt.show()"
   ]
  },
  {
   "cell_type": "markdown",
   "metadata": {},
   "source": [
    "Build a function that predict the class of a point using a logistic regresion model and a treshold."
   ]
  },
  {
   "cell_type": "code",
   "execution_count": 53,
   "metadata": {},
   "outputs": [],
   "source": [
    "def pred_LoR(Xtest,w, threshold=0.5):\n",
    "    X_bias = np.insert(Xtest, 0, 1, axis=1)\n",
    "    p = sigmoid(X_bias @ w)\n",
    "    return (p >= threshold).astype(int)"
   ]
  },
  {
   "cell_type": "markdown",
   "metadata": {},
   "source": [
    "Predict for the validation set of the occupacy dataset. Try different tresholds for classiffication and check the recall and precision for this different tresholds. "
   ]
  },
  {
   "cell_type": "code",
   "execution_count": 54,
   "metadata": {},
   "outputs": [
    {
     "name": "stdout",
     "output_type": "stream",
     "text": [
      "Modelo SGD:\n",
      "Threshold: 0.3 | Precision: 0.9473 | Recall: 0.9979\n",
      "Threshold: 0.4 | Precision: 0.9472 | Recall: 0.9969\n",
      "Threshold: 0.5 | Precision: 0.9471 | Recall: 0.9949\n",
      "Threshold: 0.6 | Precision: 0.9465 | Recall: 0.9835\n",
      "Threshold: 0.7 | Precision: 0.9647 | Recall: 0.9558\n",
      "\n",
      "Modelo IRLS:\n",
      "Threshold: 0.3 | Precision: 0.9473 | Recall: 0.9979\n",
      "Threshold: 0.4 | Precision: 0.9472 | Recall: 0.9959\n",
      "Threshold: 0.5 | Precision: 0.9466 | Recall: 0.9846\n",
      "Threshold: 0.6 | Precision: 0.9470 | Recall: 0.9743\n",
      "Threshold: 0.7 | Precision: 0.9670 | Recall: 0.9331\n"
     ]
    }
   ],
   "source": [
    "#your code goes here\n",
    "def calculate_precision_recall(y_true, y_pred):\n",
    "    # Calculando os componentes da matriz de confusão\n",
    "    true_positives = np.sum((y_true == 1) & (y_pred == 1))\n",
    "    false_positives = np.sum((y_true == 0) & (y_pred == 1))\n",
    "    false_negatives = np.sum((y_true == 1) & (y_pred == 0))\n",
    "\n",
    "    # Precision e Recall\n",
    "    precision = true_positives / (true_positives + false_positives) if (true_positives + false_positives) != 0 else 0\n",
    "    recall = true_positives / (true_positives + false_negatives) if (true_positives + false_negatives) != 0 else 0\n",
    "\n",
    "    return precision, recall\n",
    "\n",
    "def evaluate_model(X_val, y_val, params, thresholds):\n",
    "    for threshold in thresholds:\n",
    "        # Previsões usando o threshold\n",
    "        y_pred = pred_LoR(X_val, params, threshold)\n",
    "\n",
    "        # Calcular precisão e recall manualmente\n",
    "        precision, recall = calculate_precision_recall(y_val, y_pred)\n",
    "\n",
    "        print(f\"Threshold: {threshold} | Precision: {precision:.4f} | Recall: {recall:.4f}\")\n",
    "\n",
    "# Definir diferentes thresholds para testar\n",
    "thresholds = [0.3, 0.4, 0.5, 0.6, 0.7]\n",
    "\n",
    "# Avaliar o modelo SGD\n",
    "print(\"Modelo SGD:\")\n",
    "evaluate_model(X_occ_val_scaled, y_occ_val, w_sgd, thresholds)\n",
    "\n",
    "print(\"\\nModelo IRLS:\")\n",
    "# Avaliar o modelo IRLS\n",
    "evaluate_model(X_occ_val_scaled, y_occ_val, w_irls, thresholds)"
   ]
  },
  {
   "cell_type": "markdown",
   "metadata": {},
   "source": [
    "Train 2 new logistic regresion models, one for each training squeme, using a set of the union of validation and training. Choose the best treshold from your experiment in the last cell and predict for the points in the test set. Use a barplot to show the accuracy, recall and precision for both leaned logitic regression models."
   ]
  },
  {
   "cell_type": "code",
   "execution_count": 55,
   "metadata": {},
   "outputs": [],
   "source": [
    "#your code goes here\n",
    "def acc(pred, target):\n",
    "    # accuracy = number of correct predictions / total number of predictions\n",
    "    accuracy = np.count_nonzero(pred == target)  / len(target)\n",
    "    return accuracy\n",
    "\n",
    "def calculate_metrics(y_true, y_pred):\n",
    "    precision, recall = calculate_precision_recall(y_true, y_pred)\n",
    "    accuracy = acc(y_pred, y_true)\n",
    "    return precision, recall, accuracy\n",
    "\n",
    "# Normaliza os dados\n",
    "X_combined = np.vstack((X_occ_train, X_occ_val))\n",
    "y_combined = np.vstack((y_occ_train, y_occ_val))\n",
    "\n",
    "mean_train = np.mean(X_combined, axis=0)\n",
    "std_train = np.std(X_combined, axis=0)\n",
    "\n",
    "X_combined_norm = (X_combined - mean_train) / std_train\n",
    "X_occ_train_norm = (X_occ_train - mean_train) / std_train\n",
    "X_occ_val_norm = (X_occ_val - mean_train) / std_train\n",
    "X_occ_test_norm = (X_occ_test - mean_train) / std_train\n",
    "\n",
    "# Treina os modelos\n",
    "w_lor2, _ = LoR_2(X_combined_norm, y_combined, max_iter=100)\n",
    "w_lorgd, _ = LoR_gd(X_combined_norm, y_combined, lr=0.01, max_iter=100)\n",
    "\n",
    "#Prevesões para o conjunto de teste\n",
    "best_threshold = 0.3\n",
    "\n",
    "y_pred_lor2 = pred_LoR(X_occ_test_norm, w_lor2, threshold=best_threshold)\n",
    "y_pred_lorgd = pred_LoR(X_occ_test_norm, w_lorgd, threshold=best_threshold)\n",
    "\n",
    "# Calculo das metricas\n",
    "precision_lor2, recall_lor2, accuracy_lor2 = calculate_metrics(y_occ_test, y_pred_lor2)\n",
    "precision_lorgd, recall_lorgd, accuracy_lorgd = calculate_metrics(y_occ_test, y_pred_lorgd)"
   ]
  },
  {
   "cell_type": "code",
   "execution_count": 56,
   "metadata": {},
   "outputs": [
    {
     "data": {
      "image/png": "[encoded data removed]",
      "text/plain": [
       "<Figure size 800x600 with 1 Axes>"
      ]
     },
     "metadata": {},
     "output_type": "display_data"
    }
   ],
   "source": [
    "\n",
    "# Plotar as métricas em um gráfico de barras\n",
    "metrics = ['Precision', 'Recall', 'Accuracy']\n",
    "lor2_metrics = [precision_lor2, recall_lor2, accuracy_lor2]\n",
    "lorgd_metrics = [precision_lorgd, recall_lorgd, accuracy_lorgd]\n",
    "\n",
    "x = np.arange(len(metrics))\n",
    "width = 0.35\n",
    "\n",
    "fig, ax = plt.subplots(figsize=(8, 6))\n",
    "\n",
    "rects1 = ax.bar(x - width/2, lor2_metrics, width, label='LoR_2')\n",
    "rects2 = ax.bar(x + width/2, lorgd_metrics, width, label='LoR_gd')\n",
    "\n",
    "# Adicionar rótulos, título e legendas\n",
    "ax.set_ylabel('Scores')\n",
    "ax.set_title('Comparison of Logistic Regression Models')\n",
    "ax.set_xticks(x)\n",
    "ax.set_xticklabels(metrics)\n",
    "ax.legend()\n",
    "\n",
    "# Função para adicionar os rótulos nas barras\n",
    "def add_labels(rects):\n",
    "    for rect in rects:\n",
    "        height = rect.get_height()\n",
    "        ax.annotate(f'{height:.4f}',\n",
    "                    xy=(rect.get_x() + rect.get_width() / 2, height),\n",
    "                    xytext=(0, 3),\n",
    "                    textcoords=\"offset points\",\n",
    "                    ha='center', va='bottom')\n",
    "\n",
    "# Adicionar os rótulos nas barras\n",
    "add_labels(rects1)\n",
    "add_labels(rects2)\n",
    "\n",
    "plt.tight_layout()\n",
    "plt.show()"
   ]
  }
 ],
 "metadata": {
  "kernelspec": {
   "display_name": ".venv",
   "language": "python",
   "name": "python3"
  },
  "language_info": {
   "codemirror_mode": {
    "name": "ipython",
    "version": 3
   },
   "file_extension": ".py",
   "mimetype": "text/x-python",
   "name": "python",
   "nbconvert_exporter": "python",
   "pygments_lexer": "ipython3",
   "version": "3.12.3"
  },
  "orig_nbformat": 4
 },
 "nbformat": 4,
 "nbformat_minor": 2
}
